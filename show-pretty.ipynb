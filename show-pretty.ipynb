{
 "cells": [
  {
   "cell_type": "code",
   "execution_count": 3,
   "metadata": {},
   "outputs": [
    {
     "name": "stdout",
     "output_type": "stream",
     "text": [
      "Total MIDI Num: 9308\n"
     ]
    }
   ],
   "source": [
    "from typing import List\n",
    "from pathlib import Path\n",
    "from tqdm import tqdm\n",
    "from itertools import chain\n",
    "import pretty_midi as pm\n",
    "import symusic as sm\n",
    "import timeit\n",
    "import os\n",
    "\n",
    "MIDI_DATASET_NAMES = ('maestro', 'musicnet', 'POP909', 'giantmidi')\n",
    "ABC_DATASET_NAMES = ('nottingham',)\n",
    "DATASET_ROOT = \"./symusic_benchmark_datasets\"\n",
    "\n",
    "def is_valid(f: str):\n",
    "    try:\n",
    "        sm.Score(f)\n",
    "        return True\n",
    "    except:\n",
    "        return False\n",
    "\n",
    "MIDI_DATASET = list(chain(\n",
    "    *list(list(filter(\n",
    "        is_valid, \n",
    "        map(str, Path(DATASET_ROOT).joinpath(name).rglob('*.mid*'))\n",
    "    )) for name in MIDI_DATASET_NAMES)\n",
    "))\n",
    "\n",
    "\n",
    "print(f\"Total MIDI Num: {len(MIDI_DATASET)}\")"
   ]
  },
  {
   "cell_type": "markdown",
   "metadata": {},
   "source": [
    "## Speed Test (pretty midi)"
   ]
  },
  {
   "cell_type": "code",
   "execution_count": 4,
   "metadata": {},
   "outputs": [
    {
     "name": "stderr",
     "output_type": "stream",
     "text": [
      " 49%|████▊     | 4524/9308 [03:05<03:16, 24.34it/s]  \n"
     ]
    },
    {
     "ename": "FileNotFoundError",
     "evalue": "[Errno 2] No such file or directory: \"symusic_benchmark_datasets/giantmidi/O'Kelly, Joseph, Gavotte, Op.59, -RdTqBOqTDY.mid\"",
     "output_type": "error",
     "traceback": [
      "\u001b[0;31m---------------------------------------------------------------------------\u001b[0m",
      "\u001b[0;31mFileNotFoundError\u001b[0m                         Traceback (most recent call last)",
      "Cell \u001b[0;32mIn[4], line 2\u001b[0m\n\u001b[1;32m      1\u001b[0m \u001b[38;5;28;01mfor\u001b[39;00m p \u001b[38;5;129;01min\u001b[39;00m tqdm(MIDI_DATASET):\n\u001b[0;32m----> 2\u001b[0m     _ \u001b[38;5;241m=\u001b[39m \u001b[43mpm\u001b[49m\u001b[38;5;241;43m.\u001b[39;49m\u001b[43mPrettyMIDI\u001b[49m\u001b[43m(\u001b[49m\u001b[38;5;28;43mstr\u001b[39;49m\u001b[43m(\u001b[49m\u001b[43mp\u001b[49m\u001b[43m)\u001b[49m\u001b[43m)\u001b[49m\n",
      "File \u001b[0;32m~/miniforge3/envs/music/lib/python3.12/site-packages/pretty_midi/pretty_midi.py:63\u001b[0m, in \u001b[0;36mPrettyMIDI.__init__\u001b[0;34m(self, midi_file, resolution, initial_tempo)\u001b[0m\n\u001b[1;32m     59\u001b[0m \u001b[38;5;28;01mif\u001b[39;00m midi_file \u001b[38;5;129;01mis\u001b[39;00m \u001b[38;5;129;01mnot\u001b[39;00m \u001b[38;5;28;01mNone\u001b[39;00m:\n\u001b[1;32m     60\u001b[0m     \u001b[38;5;66;03m# Load in the MIDI data using the midi module\u001b[39;00m\n\u001b[1;32m     61\u001b[0m     \u001b[38;5;28;01mif\u001b[39;00m \u001b[38;5;28misinstance\u001b[39m(midi_file, six\u001b[38;5;241m.\u001b[39mstring_types):\n\u001b[1;32m     62\u001b[0m         \u001b[38;5;66;03m# If a string was given, pass it as the string filename\u001b[39;00m\n\u001b[0;32m---> 63\u001b[0m         midi_data \u001b[38;5;241m=\u001b[39m \u001b[43mmido\u001b[49m\u001b[38;5;241;43m.\u001b[39;49m\u001b[43mMidiFile\u001b[49m\u001b[43m(\u001b[49m\u001b[43mfilename\u001b[49m\u001b[38;5;241;43m=\u001b[39;49m\u001b[43mmidi_file\u001b[49m\u001b[43m)\u001b[49m\n\u001b[1;32m     64\u001b[0m     \u001b[38;5;28;01melse\u001b[39;00m:\n\u001b[1;32m     65\u001b[0m         \u001b[38;5;66;03m# Otherwise, try passing it in as a file pointer\u001b[39;00m\n\u001b[1;32m     66\u001b[0m         midi_data \u001b[38;5;241m=\u001b[39m mido\u001b[38;5;241m.\u001b[39mMidiFile(file\u001b[38;5;241m=\u001b[39mmidi_file)\n",
      "File \u001b[0;32m~/miniforge3/envs/music/lib/python3.12/site-packages/mido/midifiles/midifiles.py:319\u001b[0m, in \u001b[0;36mMidiFile.__init__\u001b[0;34m(self, filename, file, type, ticks_per_beat, charset, debug, clip, tracks)\u001b[0m\n\u001b[1;32m    317\u001b[0m     \u001b[38;5;28mself\u001b[39m\u001b[38;5;241m.\u001b[39m_load(file)\n\u001b[1;32m    318\u001b[0m \u001b[38;5;28;01melif\u001b[39;00m \u001b[38;5;28mself\u001b[39m\u001b[38;5;241m.\u001b[39mfilename \u001b[38;5;129;01mis\u001b[39;00m \u001b[38;5;129;01mnot\u001b[39;00m \u001b[38;5;28;01mNone\u001b[39;00m:\n\u001b[0;32m--> 319\u001b[0m     \u001b[38;5;28;01mwith\u001b[39;00m \u001b[38;5;28;43mopen\u001b[39;49m\u001b[43m(\u001b[49m\u001b[43mfilename\u001b[49m\u001b[43m,\u001b[49m\u001b[43m \u001b[49m\u001b[38;5;124;43m'\u001b[39;49m\u001b[38;5;124;43mrb\u001b[39;49m\u001b[38;5;124;43m'\u001b[39;49m\u001b[43m)\u001b[49m \u001b[38;5;28;01mas\u001b[39;00m file:\n\u001b[1;32m    320\u001b[0m         \u001b[38;5;28mself\u001b[39m\u001b[38;5;241m.\u001b[39m_load(file)\n",
      "\u001b[0;31mFileNotFoundError\u001b[0m: [Errno 2] No such file or directory: \"symusic_benchmark_datasets/giantmidi/O'Kelly, Joseph, Gavotte, Op.59, -RdTqBOqTDY.mid\""
     ]
    }
   ],
   "source": [
    "for p in tqdm(MIDI_DATASET):\n",
    "    _ = pm.PrettyMIDI(str(p))"
   ]
  }
 ],
 "metadata": {
  "kernelspec": {
   "display_name": "music",
   "language": "python",
   "name": "python3"
  },
  "language_info": {
   "codemirror_mode": {
    "name": "ipython",
    "version": 3
   },
   "file_extension": ".py",
   "mimetype": "text/x-python",
   "name": "python",
   "nbconvert_exporter": "python",
   "pygments_lexer": "ipython3",
   "version": "3.12.7"
  }
 },
 "nbformat": 4,
 "nbformat_minor": 2
}
