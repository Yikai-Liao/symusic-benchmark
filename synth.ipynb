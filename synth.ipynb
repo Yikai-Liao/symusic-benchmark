{
 "cells": [
  {
   "cell_type": "markdown",
   "metadata": {},
   "source": [
    "Install fluidsynth\n",
    "```bash\n",
    "sudo apt-get install fluidsynth\n",
    "pip install pyfluidsynth\n",
    "```"
   ]
  },
  {
   "cell_type": "code",
   "execution_count": 1,
   "metadata": {},
   "outputs": [],
   "source": [
    "from typing import List\n",
    "from pathlib import Path\n",
    "import midifile_binding as mf \n",
    "import symusic as sm \n",
    "import pretty_midi as pm\n",
    "import timeit\n",
    "import os\n",
    "import random\n",
    "from time import sleep\n",
    "from tqdm import tqdm\n",
    "from random import sample\n",
    "from collections import defaultdict"
   ]
  },
  {
   "cell_type": "code",
   "execution_count": 2,
   "metadata": {},
   "outputs": [
    {
     "name": "stdout",
     "output_type": "stream",
     "text": [
      "Scanning datasets to filter out invalid files...\n"
     ]
    },
    {
     "name": "stderr",
     "output_type": "stream",
     "text": [
      "maestro: 100%|██████████| 1276/1276 [00:05<00:00, 230.75it/s]\n",
      "musicnet: 100%|██████████| 330/330 [00:01<00:00, 261.23it/s]\n",
      "POP909: 100%|██████████| 2898/2898 [00:10<00:00, 280.17it/s]"
     ]
    },
    {
     "name": "stdout",
     "output_type": "stream",
     "text": [
      "{'maestro': ['symusic_benchmark_datasets/maestro/MIDI-Unprocessed_04_R1_2011_MID--AUDIO_R1-D2_06_Track06_wav.midi', 'symusic_benchmark_datasets/maestro/MIDI-UNPROCESSED_09-10_R1_2014_MID--AUDIO_09_R1_2014_wav--4.midi', 'symusic_benchmark_datasets/maestro/MIDI-Unprocessed_12_R1_2009_03-05_ORIG_MID--AUDIO_12_R1_2009_12_R1_2009_03_WAV.midi', 'symusic_benchmark_datasets/maestro/MIDI-Unprocessed_10_R1_2008_01-04_ORIG_MID--AUDIO_10_R1_2008_wav--4.midi', 'symusic_benchmark_datasets/maestro/MIDI-Unprocessed_08_R3_2008_01-05_ORIG_MID--AUDIO_08_R3_2008_wav--3.midi', 'symusic_benchmark_datasets/maestro/MIDI-Unprocessed_059_PIANO059_MID--AUDIO-split_07-07-17_Piano-e_2-03_wav--3.midi', 'symusic_benchmark_datasets/maestro/MIDI-Unprocessed_049_PIANO049_MID--AUDIO-split_07-06-17_Piano-e_2-06_wav--1.midi', 'symusic_benchmark_datasets/maestro/MIDI-Unprocessed_XP_15_R2_2004_01_ORIG_MID--AUDIO_15_R2_2004_02_Track02_wav.midi', 'symusic_benchmark_datasets/maestro/MIDI-Unprocessed_03_R3_2011_MID--AUDIO_R3-D1_06_Track06_wav.midi', 'symusic_benchmark_datasets/maestro/ORIG-MIDI_02_7_6_13_Group__MID--AUDIO_05_R1_2013_wav--3.midi'], 'musicnet': ['symusic_benchmark_datasets/musicnet/2415_lvbsext2.mid', 'symusic_benchmark_datasets/musicnet/1758_d958-2.mid', 'symusic_benchmark_datasets/musicnet/1757_d958-1.mid', 'symusic_benchmark_datasets/musicnet/1829_k542_3.mid', 'symusic_benchmark_datasets/musicnet/2200_fugue16.mid', 'symusic_benchmark_datasets/musicnet/2210_prelude4.mid', 'symusic_benchmark_datasets/musicnet/2507_op103-4.mid', 'symusic_benchmark_datasets/musicnet/2614_ps07_02.mid', 'symusic_benchmark_datasets/musicnet/1755_sy_sps52.mid', 'symusic_benchmark_datasets/musicnet/2568_ps27_02.mid'], 'POP909': ['symusic_benchmark_datasets/POP909/242.mid', 'symusic_benchmark_datasets/POP909/828-v1.mid', 'symusic_benchmark_datasets/POP909/903-v1.mid', 'symusic_benchmark_datasets/POP909/702-v2.mid', 'symusic_benchmark_datasets/POP909/540-v1.mid', 'symusic_benchmark_datasets/POP909/271-v2.mid', 'symusic_benchmark_datasets/POP909/577.mid', 'symusic_benchmark_datasets/POP909/754-v3.mid', 'symusic_benchmark_datasets/POP909/341-v2.mid', 'symusic_benchmark_datasets/POP909/009.mid']}\n"
     ]
    },
    {
     "name": "stderr",
     "output_type": "stream",
     "text": [
      "\n"
     ]
    }
   ],
   "source": [
    "MIDI_DATASET_NAMES = ('maestro', 'musicnet', 'POP909')\n",
    "DATASET_ROOT = \"./symusic_benchmark_datasets\"\n",
    "SAMPLE_NUM = 10\n",
    "\n",
    "def is_valid(f: str):\n",
    "    try:\n",
    "        sm.Score(f)\n",
    "        return True\n",
    "    except:\n",
    "        return False\n",
    "\n",
    "print(\"Scanning datasets to filter out invalid files...\")\n",
    "sleep(0.1)\n",
    "random.seed(42)\n",
    "MIDI_DATASET = {\n",
    "    name: sample(sorted(list(filter(\n",
    "        is_valid, \n",
    "        tqdm(list(map(str, Path(DATASET_ROOT).joinpath(name).rglob('*.mid*'))), desc=name)\n",
    "    ))), SAMPLE_NUM) for name in MIDI_DATASET_NAMES\n",
    "}\n",
    "print(MIDI_DATASET)"
   ]
  },
  {
   "cell_type": "code",
   "execution_count": 3,
   "metadata": {},
   "outputs": [
    {
     "name": "stdout",
     "output_type": "stream",
     "text": [
      "Processing maestro dataset...\n"
     ]
    },
    {
     "name": "stderr",
     "output_type": "stream",
     "text": [
      "                                                                     \r"
     ]
    },
    {
     "name": "stdout",
     "output_type": "stream",
     "text": [
      "Processing musicnet dataset...\n"
     ]
    },
    {
     "name": "stderr",
     "output_type": "stream",
     "text": [
      "/home/lyk/miniforge3/envs/music/lib/python3.11/site-packages/pretty_midi/pretty_midi.py:100: RuntimeWarning: Tempo, Key or Time signature change events found on non-zero tracks.  This is not a valid type 0 or type 1 MIDI file.  Tempo, Key or Time Signature may be wrong.\n",
      "  warnings.warn(\n",
      "                                                                    \r"
     ]
    },
    {
     "ename": "KeyboardInterrupt",
     "evalue": "",
     "output_type": "error",
     "traceback": [
      "\u001b[0;31m---------------------------------------------------------------------------\u001b[0m",
      "\u001b[0;31mKeyboardInterrupt\u001b[0m                         Traceback (most recent call last)",
      "Cell \u001b[0;32mIn[3], line 19\u001b[0m\n\u001b[1;32m     16\u001b[0m         pm\u001b[38;5;241m.\u001b[39mfluidsynth(sample_rate, sf3_path)\n\u001b[1;32m     18\u001b[0m \u001b[38;5;66;03m# render_score()\u001b[39;00m\n\u001b[0;32m---> 19\u001b[0m \u001b[43mrender_pretty_midi\u001b[49m\u001b[43m(\u001b[49m\u001b[43m)\u001b[49m\n",
      "Cell \u001b[0;32mIn[3], line 16\u001b[0m, in \u001b[0;36mrender_pretty_midi\u001b[0;34m()\u001b[0m\n\u001b[1;32m     14\u001b[0m \u001b[38;5;28;01mdef\u001b[39;00m \u001b[38;5;21mrender_pretty_midi\u001b[39m():\n\u001b[1;32m     15\u001b[0m     \u001b[38;5;28;01mfor\u001b[39;00m pm \u001b[38;5;129;01min\u001b[39;00m tqdm(pms, desc\u001b[38;5;241m=\u001b[39m\u001b[38;5;124m\"\u001b[39m\u001b[38;5;124mPrettyMIDI rendering\u001b[39m\u001b[38;5;124m\"\u001b[39m, leave\u001b[38;5;241m=\u001b[39m\u001b[38;5;28;01mFalse\u001b[39;00m):\n\u001b[0;32m---> 16\u001b[0m         \u001b[43mpm\u001b[49m\u001b[38;5;241;43m.\u001b[39;49m\u001b[43mfluidsynth\u001b[49m\u001b[43m(\u001b[49m\u001b[43msample_rate\u001b[49m\u001b[43m,\u001b[49m\u001b[43m \u001b[49m\u001b[43msf3_path\u001b[49m\u001b[43m)\u001b[49m\n",
      "File \u001b[0;32m~/miniforge3/envs/music/lib/python3.11/site-packages/pretty_midi/pretty_midi.py:974\u001b[0m, in \u001b[0;36mPrettyMIDI.fluidsynth\u001b[0;34m(self, fs, sf2_path)\u001b[0m\n\u001b[1;32m    972\u001b[0m     \u001b[38;5;28;01mreturn\u001b[39;00m np\u001b[38;5;241m.\u001b[39marray([])\n\u001b[1;32m    973\u001b[0m \u001b[38;5;66;03m# Get synthesized waveform for each instrument\u001b[39;00m\n\u001b[0;32m--> 974\u001b[0m waveforms \u001b[38;5;241m=\u001b[39m \u001b[43m[\u001b[49m\u001b[43mi\u001b[49m\u001b[38;5;241;43m.\u001b[39;49m\u001b[43mfluidsynth\u001b[49m\u001b[43m(\u001b[49m\u001b[43mfs\u001b[49m\u001b[38;5;241;43m=\u001b[39;49m\u001b[43mfs\u001b[49m\u001b[43m,\u001b[49m\n\u001b[1;32m    975\u001b[0m \u001b[43m                          \u001b[49m\u001b[43msf2_path\u001b[49m\u001b[38;5;241;43m=\u001b[39;49m\u001b[43msf2_path\u001b[49m\u001b[43m)\u001b[49m\u001b[43m \u001b[49m\u001b[38;5;28;43;01mfor\u001b[39;49;00m\u001b[43m \u001b[49m\u001b[43mi\u001b[49m\u001b[43m \u001b[49m\u001b[38;5;129;43;01min\u001b[39;49;00m\u001b[43m \u001b[49m\u001b[38;5;28;43mself\u001b[39;49m\u001b[38;5;241;43m.\u001b[39;49m\u001b[43minstruments\u001b[49m\u001b[43m]\u001b[49m\n\u001b[1;32m    976\u001b[0m \u001b[38;5;66;03m# Allocate output waveform, with #sample = max length of all waveforms\u001b[39;00m\n\u001b[1;32m    977\u001b[0m synthesized \u001b[38;5;241m=\u001b[39m np\u001b[38;5;241m.\u001b[39mzeros(np\u001b[38;5;241m.\u001b[39mmax([w\u001b[38;5;241m.\u001b[39mshape[\u001b[38;5;241m0\u001b[39m] \u001b[38;5;28;01mfor\u001b[39;00m w \u001b[38;5;129;01min\u001b[39;00m waveforms]))\n",
      "File \u001b[0;32m~/miniforge3/envs/music/lib/python3.11/site-packages/pretty_midi/pretty_midi.py:974\u001b[0m, in \u001b[0;36m<listcomp>\u001b[0;34m(.0)\u001b[0m\n\u001b[1;32m    972\u001b[0m     \u001b[38;5;28;01mreturn\u001b[39;00m np\u001b[38;5;241m.\u001b[39marray([])\n\u001b[1;32m    973\u001b[0m \u001b[38;5;66;03m# Get synthesized waveform for each instrument\u001b[39;00m\n\u001b[0;32m--> 974\u001b[0m waveforms \u001b[38;5;241m=\u001b[39m [\u001b[43mi\u001b[49m\u001b[38;5;241;43m.\u001b[39;49m\u001b[43mfluidsynth\u001b[49m\u001b[43m(\u001b[49m\u001b[43mfs\u001b[49m\u001b[38;5;241;43m=\u001b[39;49m\u001b[43mfs\u001b[49m\u001b[43m,\u001b[49m\n\u001b[1;32m    975\u001b[0m \u001b[43m                          \u001b[49m\u001b[43msf2_path\u001b[49m\u001b[38;5;241;43m=\u001b[39;49m\u001b[43msf2_path\u001b[49m\u001b[43m)\u001b[49m \u001b[38;5;28;01mfor\u001b[39;00m i \u001b[38;5;129;01min\u001b[39;00m \u001b[38;5;28mself\u001b[39m\u001b[38;5;241m.\u001b[39minstruments]\n\u001b[1;32m    976\u001b[0m \u001b[38;5;66;03m# Allocate output waveform, with #sample = max length of all waveforms\u001b[39;00m\n\u001b[1;32m    977\u001b[0m synthesized \u001b[38;5;241m=\u001b[39m np\u001b[38;5;241m.\u001b[39mzeros(np\u001b[38;5;241m.\u001b[39mmax([w\u001b[38;5;241m.\u001b[39mshape[\u001b[38;5;241m0\u001b[39m] \u001b[38;5;28;01mfor\u001b[39;00m w \u001b[38;5;129;01min\u001b[39;00m waveforms]))\n",
      "File \u001b[0;32m~/miniforge3/envs/music/lib/python3.11/site-packages/pretty_midi/instrument.py:523\u001b[0m, in \u001b[0;36mInstrument.fluidsynth\u001b[0;34m(self, fs, sf2_path)\u001b[0m\n\u001b[1;32m    521\u001b[0m current_sample \u001b[38;5;241m=\u001b[39m \u001b[38;5;28mint\u001b[39m(fs\u001b[38;5;241m*\u001b[39mcurrent_time)\n\u001b[1;32m    522\u001b[0m end \u001b[38;5;241m=\u001b[39m \u001b[38;5;28mint\u001b[39m(fs\u001b[38;5;241m*\u001b[39m(current_time \u001b[38;5;241m+\u001b[39m event[\u001b[38;5;241m0\u001b[39m]))\n\u001b[0;32m--> 523\u001b[0m samples \u001b[38;5;241m=\u001b[39m \u001b[43mfl\u001b[49m\u001b[38;5;241;43m.\u001b[39;49m\u001b[43mget_samples\u001b[49m\u001b[43m(\u001b[49m\u001b[43mend\u001b[49m\u001b[43m \u001b[49m\u001b[38;5;241;43m-\u001b[39;49m\u001b[43m \u001b[49m\u001b[43mcurrent_sample\u001b[49m\u001b[43m)\u001b[49m[::\u001b[38;5;241m2\u001b[39m]\n\u001b[1;32m    524\u001b[0m synthesized[current_sample:end] \u001b[38;5;241m+\u001b[39m\u001b[38;5;241m=\u001b[39m samples\n\u001b[1;32m    525\u001b[0m \u001b[38;5;66;03m# Increment the current sample\u001b[39;00m\n",
      "File \u001b[0;32m~/miniforge3/envs/music/lib/python3.11/site-packages/fluidsynth.py:981\u001b[0m, in \u001b[0;36mSynth.get_samples\u001b[0;34m(self, len)\u001b[0m\n\u001b[1;32m    973\u001b[0m \u001b[38;5;28;01mdef\u001b[39;00m \u001b[38;5;21mget_samples\u001b[39m(\u001b[38;5;28mself\u001b[39m, \u001b[38;5;28mlen\u001b[39m\u001b[38;5;241m=\u001b[39m\u001b[38;5;241m1024\u001b[39m):\n\u001b[1;32m    974\u001b[0m \u001b[38;5;250m    \u001b[39m\u001b[38;5;124;03m\"\"\"Generate audio samples\u001b[39;00m\n\u001b[1;32m    975\u001b[0m \n\u001b[1;32m    976\u001b[0m \u001b[38;5;124;03m    The return value will be a NumPy array containing the given\u001b[39;00m\n\u001b[0;32m   (...)\u001b[0m\n\u001b[1;32m    979\u001b[0m \n\u001b[1;32m    980\u001b[0m \u001b[38;5;124;03m    \"\"\"\u001b[39;00m\n\u001b[0;32m--> 981\u001b[0m     \u001b[38;5;28;01mreturn\u001b[39;00m \u001b[43mfluid_synth_write_s16_stereo\u001b[49m\u001b[43m(\u001b[49m\u001b[38;5;28;43mself\u001b[39;49m\u001b[38;5;241;43m.\u001b[39;49m\u001b[43msynth\u001b[49m\u001b[43m,\u001b[49m\u001b[43m \u001b[49m\u001b[38;5;28;43mlen\u001b[39;49m\u001b[43m)\u001b[49m\n",
      "File \u001b[0;32m~/miniforge3/envs/music/lib/python3.11/site-packages/fluidsynth.py:624\u001b[0m, in \u001b[0;36mfluid_synth_write_s16_stereo\u001b[0;34m(synth, len)\u001b[0m\n\u001b[1;32m    622\u001b[0m \u001b[38;5;28;01mimport\u001b[39;00m \u001b[38;5;21;01mnumpy\u001b[39;00m\n\u001b[1;32m    623\u001b[0m buf \u001b[38;5;241m=\u001b[39m create_string_buffer(\u001b[38;5;28mlen\u001b[39m \u001b[38;5;241m*\u001b[39m \u001b[38;5;241m4\u001b[39m)\n\u001b[0;32m--> 624\u001b[0m \u001b[43mfluid_synth_write_s16\u001b[49m\u001b[43m(\u001b[49m\u001b[43msynth\u001b[49m\u001b[43m,\u001b[49m\u001b[43m \u001b[49m\u001b[38;5;28;43mlen\u001b[39;49m\u001b[43m,\u001b[49m\u001b[43m \u001b[49m\u001b[43mbuf\u001b[49m\u001b[43m,\u001b[49m\u001b[43m \u001b[49m\u001b[38;5;241;43m0\u001b[39;49m\u001b[43m,\u001b[49m\u001b[43m \u001b[49m\u001b[38;5;241;43m2\u001b[39;49m\u001b[43m,\u001b[49m\u001b[43m \u001b[49m\u001b[43mbuf\u001b[49m\u001b[43m,\u001b[49m\u001b[43m \u001b[49m\u001b[38;5;241;43m1\u001b[39;49m\u001b[43m,\u001b[49m\u001b[43m \u001b[49m\u001b[38;5;241;43m2\u001b[39;49m\u001b[43m)\u001b[49m\n\u001b[1;32m    625\u001b[0m \u001b[38;5;28;01mreturn\u001b[39;00m numpy\u001b[38;5;241m.\u001b[39mfrombuffer(buf[:], dtype\u001b[38;5;241m=\u001b[39mnumpy\u001b[38;5;241m.\u001b[39mint16)\n",
      "\u001b[0;31mKeyboardInterrupt\u001b[0m: "
     ]
    }
   ],
   "source": [
    "sf3_path = \"/home/lyk/Download/MuseScore_General.sf3\"\n",
    "sample_rate = 44100\n",
    "\n",
    "synth_time = defaultdict(list)\n",
    "\n",
    "for name, paths in MIDI_DATASET.items():\n",
    "    print(f\"Processing {name} dataset...\")\n",
    "    scores = [sm.Score(p) for p in paths]\n",
    "    pms = [pm.PrettyMIDI(p) for p in paths]\n",
    "\n",
    "    def render_score():\n",
    "        synthesizer = sm.Synthesizer(sf3_path, sample_rate=sample_rate)\n",
    "        for score in tqdm(scores, desc=\"Symusic rendering\", leave=False):\n",
    "            synthesizer.render(score, True)\n",
    "    \n",
    "    def render_pretty_midi():\n",
    "        for pm in tqdm(pms, desc=\"PrettyMIDI rendering\", leave=False):\n",
    "            pm.fluidsynth(sample_rate, sf3_path)\n",
    "    \n",
    "    synth_time['symusic'].append(timeit.timeit(render_score, number=4) / 4)\n",
    "    synth_time['fluidsynth'].append(timeit.timeit(render_pretty_midi, number=2) / 2)\n",
    "    \n",
    "print(synth_time)"
   ]
  }
 ],
 "metadata": {
  "kernelspec": {
   "display_name": "311",
   "language": "python",
   "name": "python3"
  },
  "language_info": {
   "codemirror_mode": {
    "name": "ipython",
    "version": 3
   },
   "file_extension": ".py",
   "mimetype": "text/x-python",
   "name": "python",
   "nbconvert_exporter": "python",
   "pygments_lexer": "ipython3",
   "version": "3.11.9"
  }
 },
 "nbformat": 4,
 "nbformat_minor": 2
}
