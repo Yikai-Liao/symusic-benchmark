{
 "cells": [
  {
   "cell_type": "code",
   "execution_count": 69,
   "metadata": {},
   "outputs": [],
   "source": [
    "from typing import List\n",
    "from pathlib import Path\n",
    "import midifile_binding as mf \n",
    "import symusic as sm \n",
    "import miditoolkit as mtk\n",
    "import pretty_midi as pm\n",
    "import music21 as m21\n",
    "import timeit\n",
    "import os\n",
    "from tqdm import tqdm\n",
    "from time import sleep\n"
   ]
  },
  {
   "cell_type": "code",
   "execution_count": 70,
   "metadata": {},
   "outputs": [
    {
     "name": "stdout",
     "output_type": "stream",
     "text": [
      "Scanning datasets to filter out invalid files...\n"
     ]
    },
    {
     "name": "stderr",
     "output_type": "stream",
     "text": [
      "maestro: 100%|██████████| 1276/1276 [00:01<00:00, 890.92it/s]\n",
      "musicnet: 100%|██████████| 330/330 [00:00<00:00, 2775.41it/s]\n",
      "POP909: 100%|██████████| 2898/2898 [00:01<00:00, 1843.90it/s]\n",
      "nottingham: 100%|██████████| 14/14 [00:00<00:00, 45.63it/s]\n"
     ]
    }
   ],
   "source": [
    "MIDI_DATASET_NAMES = ('maestro', 'musicnet', 'POP909')\n",
    "ABC_DATASET_NAMES = ('nottingham',)\n",
    "DATASET_ROOT = \"./symusic_benchmark_datasets\"\n",
    "\n",
    "def is_valid(f: str):\n",
    "    try:\n",
    "        sm.Score(f)\n",
    "        return True\n",
    "    except:\n",
    "        return False\n",
    "\n",
    "print(\"Scanning datasets to filter out invalid files...\")\n",
    "sleep(0.1)\n",
    "MIDI_DATASET = {\n",
    "    name: sorted(list(filter(\n",
    "        is_valid, \n",
    "        tqdm(list(map(str, Path(DATASET_ROOT).joinpath(name).rglob('*.mid*'))), desc=name)\n",
    "    )))  for name in MIDI_DATASET_NAMES\n",
    "}\n",
    "\n",
    "ABC_DATASET = {\n",
    "    name: sorted(list(filter(\n",
    "        is_valid, \n",
    "        tqdm(list(map(str, Path(DATASET_ROOT).joinpath(name).rglob('*.abc'))), desc=name)\n",
    "    ))) for name in ABC_DATASET_NAMES\n",
    "}"
   ]
  },
  {
   "cell_type": "code",
   "execution_count": 71,
   "metadata": {},
   "outputs": [
    {
     "data": {
      "text/html": [
       "<div>\n",
       "<style scoped>\n",
       "    .dataframe tbody tr th:only-of-type {\n",
       "        vertical-align: middle;\n",
       "    }\n",
       "\n",
       "    .dataframe tbody tr th {\n",
       "        vertical-align: top;\n",
       "    }\n",
       "\n",
       "    .dataframe thead th {\n",
       "        text-align: right;\n",
       "    }\n",
       "</style>\n",
       "<table border=\"1\" class=\"dataframe\">\n",
       "  <thead>\n",
       "    <tr style=\"text-align: right;\">\n",
       "      <th></th>\n",
       "      <th>format</th>\n",
       "      <th>file_num</th>\n",
       "      <th>avg_size(KB)</th>\n",
       "    </tr>\n",
       "  </thead>\n",
       "  <tbody>\n",
       "    <tr>\n",
       "      <th>maestro</th>\n",
       "      <td>midi</td>\n",
       "      <td>1276</td>\n",
       "      <td>64.187625</td>\n",
       "    </tr>\n",
       "    <tr>\n",
       "      <th>musicnet</th>\n",
       "      <td>midi</td>\n",
       "      <td>322</td>\n",
       "      <td>30.557414</td>\n",
       "    </tr>\n",
       "    <tr>\n",
       "      <th>POP909</th>\n",
       "      <td>midi</td>\n",
       "      <td>2898</td>\n",
       "      <td>13.598484</td>\n",
       "    </tr>\n",
       "    <tr>\n",
       "      <th>nottingham</th>\n",
       "      <td>abc</td>\n",
       "      <td>14</td>\n",
       "      <td>34.595843</td>\n",
       "    </tr>\n",
       "  </tbody>\n",
       "</table>\n",
       "</div>"
      ],
      "text/plain": [
       "           format  file_num  avg_size(KB)\n",
       "maestro      midi      1276     64.187625\n",
       "musicnet     midi       322     30.557414\n",
       "POP909       midi      2898     13.598484\n",
       "nottingham    abc        14     34.595843"
      ]
     },
     "execution_count": 71,
     "metadata": {},
     "output_type": "execute_result"
    }
   ],
   "source": [
    "# show file numbers and average file size(in KB) for each dataset\n",
    "# show in pandas dataframe\n",
    "import pandas as pd\n",
    "dataset_stat = pd.DataFrame()\n",
    "for name, files in MIDI_DATASET.items():\n",
    "    dataset_stat.loc[name, 'format'] = 'midi'\n",
    "    dataset_stat.loc[name, 'file_num'] = len(files)\n",
    "    dataset_stat.loc[name, 'avg_size(KB)'] = sum(Path(f).stat().st_size for f in files) / len(files) / 1024\n",
    "\n",
    "for name, files in ABC_DATASET.items():\n",
    "    dataset_stat.loc[name, 'format'] = 'abc'\n",
    "    dataset_stat.loc[name, 'file_num'] = len(files)\n",
    "    dataset_stat.loc[name, 'avg_size(KB)'] = sum(Path(f).stat().st_size for f in files) / len(files) / 1024\n",
    "\n",
    "# set file number to integer\n",
    "dataset_stat['file_num'] = dataset_stat['file_num'].astype(int)\n",
    "dataset_stat"
   ]
  },
  {
   "cell_type": "code",
   "execution_count": 72,
   "metadata": {},
   "outputs": [
    {
     "name": "stdout",
     "output_type": "stream",
     "text": [
      "MAX_FILES_PER_DATASET: 2\n",
      "REPEAT_TIMES: 2\n"
     ]
    }
   ],
   "source": [
    "# MAX_FILES_PER_DATASET = int(dataset_stat['file_num'].max())  \n",
    "# REPEAT_TIMES = 5\n",
    "\n",
    "MAX_FILES_PER_DATASET = 2 # for testing\n",
    "REPEAT_TIMES = 2 # for testing\n",
    "\n",
    "print(f\"MAX_FILES_PER_DATASET: {MAX_FILES_PER_DATASET}\")\n",
    "print(f\"REPEAT_TIMES: {REPEAT_TIMES}\")"
   ]
  },
  {
   "cell_type": "code",
   "execution_count": 73,
   "metadata": {},
   "outputs": [
    {
     "name": "stdout",
     "output_type": "stream",
     "text": [
      "benchmarking maestro...\n",
      "benchmarking musicnet...\n",
      "benchmarking POP909...\n",
      "defaultdict(<class 'list'>, {'symusic': [0.0006487999999080785, 0.0011542000005041093, 0.0005798333331767935], 'midifile': [0.0021046000001661014, 0.010774399999111969, 0.001722866666871899], 'miditoolkit': [0.05599586666721734, 0.27994786666628596, 0.044650833333435], 'prettymidi': [0.05486363333329791, 0.3070209666669446, 0.05871616666627233], 'music21': [0.10975473333261714, 0.55689646666724, 0.21955876666591698]})\n",
      "defaultdict(<class 'list'>, {'symusic': [0.0016698999994938881, 0.0026175333332503214, 0.001306999999845478], 'midifile': [0.0019405666656287695, 0.0024893666680630595, 0.0009777999997216587], 'miditoolkit': [0.10585419999915757, 0.3077287333338366, 0.04239503333398413], 'prettymidi': [0.12580063333249805, 0.4858014333318958, 0.05566176666737495], 'music21': [2.1206434666673886, 9.36407663333254, 3.453902733333962]})\n"
     ]
    }
   ],
   "source": [
    "def bench_midi(files: List[str], repeat=10):\n",
    "    def bench_read(load, _files):\n",
    "        for f in _files:\n",
    "            load(f)\n",
    "\n",
    "    def bench_rw(load, dump, _files):\n",
    "        for f in _files:\n",
    "            score = load(f)\n",
    "            dump(score, './tmp')\n",
    "    \n",
    "    env = globals()\n",
    "    env.update(locals())\n",
    "    \n",
    "    read_time = {\n",
    "        'symusic': timeit.timeit('bench_read(sm.Score, files)', number=repeat, globals=env),\n",
    "        'midifile': timeit.timeit('bench_read(mf.load, files)', number=repeat, globals=env),\n",
    "        'miditoolkit': timeit.timeit('bench_read(mtk.MidiFile, files)', number=repeat, globals=env),\n",
    "        'prettymidi': timeit.timeit('bench_read(pm.PrettyMIDI, files)', number=repeat, globals=env),\n",
    "        'music21': timeit.timeit('bench_read(m21.converter.parse, files)', number=repeat, globals=env),\n",
    "    }\n",
    "    write_time = {\n",
    "        'symusic': timeit.timeit('bench_rw(sm.Score, lambda x,y: x.dump_midi(y), files)', number=repeat, globals=env),\n",
    "        'midifile': timeit.timeit('bench_rw(mf.load, lambda x,y: x.dump_midi(y), files)', number=repeat, globals=env),\n",
    "        'miditoolkit': timeit.timeit('bench_rw(mtk.MidiFile, lambda x,y: x.dump(y), files)', number=repeat, globals=env),\n",
    "        'prettymidi': timeit.timeit('bench_rw(pm.PrettyMIDI, lambda x,y: x.write(y), files)', number=repeat, globals=env),\n",
    "        'music21': timeit.timeit('bench_rw(m21.converter.parse, lambda x,y: x.write(\"midi\", y), files)', number=repeat, globals=env),\n",
    "    }\n",
    "    os.remove('./tmp')\n",
    "    read_time = {\n",
    "        k: v / repeat\n",
    "        for k, v in read_time.items()\n",
    "    }\n",
    "    write_time = {\n",
    "        k: v / repeat - read_time[k]\n",
    "        for k, v in write_time.items()\n",
    "    }\n",
    "    return read_time, write_time\n",
    "from collections import defaultdict\n",
    "midi_read_benchmark = defaultdict(list)\n",
    "midi_write_benchmark = defaultdict(list)\n",
    "\n",
    "for name, files in MIDI_DATASET.items():\n",
    "    print(f\"benchmarking {name}...\")\n",
    "    read_time, write_time = bench_midi(files[:MAX_FILES_PER_DATASET], repeat=3)\n",
    "    for k, v in read_time.items():\n",
    "        midi_read_benchmark[k].append(v)\n",
    "    for k, v in write_time.items():\n",
    "        midi_write_benchmark[k].append(v)"
   ]
  },
  {
   "cell_type": "code",
   "execution_count": 74,
   "metadata": {},
   "outputs": [
    {
     "name": "stdout",
     "output_type": "stream",
     "text": [
      "read midi files:\n",
      "           symusic  midifile  miditoolkit  prettymidi   music21\n",
      "maestro   0.000649  0.002105     0.055996    0.054864  0.109755\n",
      "musicnet  0.001154  0.010774     0.279948    0.307021  0.556896\n",
      "POP909    0.000580  0.001723     0.044651    0.058716  0.219559\n",
      "\n",
      "write midi files:\n",
      "           symusic  midifile  miditoolkit  prettymidi   music21\n",
      "maestro   0.001670  0.001941     0.105854    0.125801  2.120643\n",
      "musicnet  0.002618  0.002489     0.307729    0.485801  9.364077\n",
      "POP909    0.001307  0.000978     0.042395    0.055662  3.453903\n"
     ]
    }
   ],
   "source": [
    "midi_read_pd = pd.DataFrame(dict(midi_read_benchmark), index=MIDI_DATASET.keys())\n",
    "midi_write_pd = pd.DataFrame(dict(midi_write_benchmark), index=MIDI_DATASET.keys())\n",
    "print(\"read midi files:\")\n",
    "print(midi_read_pd)\n",
    "print(\"\\nwrite midi files:\")\n",
    "print(midi_write_pd)"
   ]
  },
  {
   "cell_type": "code",
   "execution_count": 75,
   "metadata": {},
   "outputs": [
    {
     "name": "stdout",
     "output_type": "stream",
     "text": [
      "benchmarking nottingham...\n",
      "defaultdict(<class 'list'>, {'symusic': [0.035935033333468404], 'music21': [0.7204875666660276]})\n",
      "defaultdict(<class 'list'>, {'symusic': [0.03777630000089024], 'music21': [nan]})\n"
     ]
    }
   ],
   "source": [
    "def bench_abc(files: List[str], repeat=10):\n",
    "    def bench_read(load, _files):\n",
    "        for f in _files:\n",
    "            load(f)\n",
    "\n",
    "    def bench_rw(load, dump, _files):\n",
    "        for f in _files:\n",
    "            score = load(f)\n",
    "            dump(score, './tmp')\n",
    "    \n",
    "    env = globals()\n",
    "    env.update(locals())\n",
    "    \n",
    "    read_time = {\n",
    "        'symusic': timeit.timeit('bench_read(sm.Score, files)', number=repeat, globals=env),\n",
    "        'music21': timeit.timeit('bench_read(m21.converter.parse, files)', number=repeat, globals=env),\n",
    "    }\n",
    "    write_time = {\n",
    "        'symusic': timeit.timeit('bench_rw(sm.Score, lambda x,y: x.dump_abc(y), files)', number=repeat, globals=env),\n",
    "        # music21 for NA\n",
    "        'music21': float('nan'),\n",
    "    }\n",
    "    os.remove('./tmp')\n",
    "\n",
    "    read_time = {\n",
    "        k: v / repeat\n",
    "        for k, v in read_time.items()\n",
    "    }\n",
    "    write_time = {\n",
    "        k: v / repeat - read_time[k]\n",
    "        for k, v in write_time.items()\n",
    "    }\n",
    "    return read_time, write_time\n",
    "\n",
    "abc_read_benchmark = defaultdict(list)\n",
    "abc_write_benchmark = defaultdict(list)\n",
    "\n",
    "for name, files in ABC_DATASET.items():\n",
    "    print(f\"benchmarking {name}...\")\n",
    "    read_time, write_time = bench_abc(files[:MAX_FILES_PER_DATASET], repeat=3)\n",
    "    for k, v in read_time.items():\n",
    "        abc_read_benchmark[k].append(v)\n",
    "    for k, v in write_time.items():\n",
    "        abc_write_benchmark[k].append(v)\n"
   ]
  },
  {
   "cell_type": "code",
   "execution_count": 76,
   "metadata": {},
   "outputs": [
    {
     "name": "stdout",
     "output_type": "stream",
     "text": [
      "read abc files:\n",
      "             symusic   music21\n",
      "nottingham  0.035935  0.720488\n",
      "\n",
      "write abc files:\n",
      "             symusic  music21\n",
      "nottingham  0.037776      NaN\n"
     ]
    }
   ],
   "source": [
    "abc_read_pd = pd.DataFrame(dict(abc_read_benchmark), index=ABC_DATASET.keys())\n",
    "abc_write_pd = pd.DataFrame(dict(abc_write_benchmark), index=ABC_DATASET.keys())\n",
    "print(\"read abc files:\")\n",
    "print(abc_read_pd)\n",
    "print(\"\\nwrite abc files:\")\n",
    "print(abc_write_pd)"
   ]
  }
 ],
 "metadata": {
  "kernelspec": {
   "display_name": "311",
   "language": "python",
   "name": "python3"
  },
  "language_info": {
   "codemirror_mode": {
    "name": "ipython",
    "version": 3
   },
   "file_extension": ".py",
   "mimetype": "text/x-python",
   "name": "python",
   "nbconvert_exporter": "python",
   "pygments_lexer": "ipython3",
   "version": "3.11.8"
  }
 },
 "nbformat": 4,
 "nbformat_minor": 2
}
