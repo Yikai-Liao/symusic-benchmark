{
 "cells": [
  {
   "cell_type": "code",
   "execution_count": 9,
   "metadata": {},
   "outputs": [],
   "source": [
    "from typing import List\n",
    "from pathlib import Path\n",
    "import midifile_binding as mf \n",
    "import symusic as sm \n",
    "import miditoolkit as mtk\n",
    "import pretty_midi as pm\n",
    "import music21 as m21\n",
    "import timeit\n",
    "import os\n",
    "from tqdm import tqdm\n",
    "from time import sleep\n"
   ]
  },
  {
   "cell_type": "code",
   "execution_count": 10,
   "metadata": {},
   "outputs": [
    {
     "name": "stdout",
     "output_type": "stream",
     "text": [
      "Scanning datasets to filter out invalid files...\n"
     ]
    },
    {
     "name": "stderr",
     "output_type": "stream",
     "text": [
      "maestro: 100%|██████████| 1276/1276 [00:00<00:00, 1756.30it/s]\n",
      "musicnet: 100%|██████████| 330/330 [00:00<00:00, 3356.44it/s]\n",
      "POP909: 100%|██████████| 2898/2898 [00:00<00:00, 3681.41it/s]\n",
      "nottingham: 100%|██████████| 14/14 [00:00<00:00, 47.12it/s]\n"
     ]
    }
   ],
   "source": [
    "MIDI_DATASET_NAMES = ('maestro', 'musicnet', 'POP909')\n",
    "ABC_DATASET_NAMES = ('nottingham',)\n",
    "DATASET_ROOT = \"./symusic_benchmark_datasets\"\n",
    "\n",
    "def is_valid(f: str):\n",
    "    try:\n",
    "        sm.Score(f)\n",
    "        return True\n",
    "    except:\n",
    "        return False\n",
    "\n",
    "print(\"Scanning datasets to filter out invalid files...\")\n",
    "sleep(0.1)\n",
    "MIDI_DATASET = {\n",
    "    name: sorted(list(filter(\n",
    "        is_valid, \n",
    "        tqdm(list(map(str, Path(DATASET_ROOT).joinpath(name).rglob('*.mid*'))), desc=name)\n",
    "    )))  for name in MIDI_DATASET_NAMES\n",
    "}\n",
    "\n",
    "ABC_DATASET = {\n",
    "    name: sorted(list(filter(\n",
    "        is_valid, \n",
    "        tqdm(list(map(str, Path(DATASET_ROOT).joinpath(name).rglob('*.abc'))), desc=name)\n",
    "    ))) for name in ABC_DATASET_NAMES\n",
    "}"
   ]
  },
  {
   "cell_type": "code",
   "execution_count": 11,
   "metadata": {},
   "outputs": [
    {
     "data": {
      "text/html": [
       "<div>\n",
       "<style scoped>\n",
       "    .dataframe tbody tr th:only-of-type {\n",
       "        vertical-align: middle;\n",
       "    }\n",
       "\n",
       "    .dataframe tbody tr th {\n",
       "        vertical-align: top;\n",
       "    }\n",
       "\n",
       "    .dataframe thead th {\n",
       "        text-align: right;\n",
       "    }\n",
       "</style>\n",
       "<table border=\"1\" class=\"dataframe\">\n",
       "  <thead>\n",
       "    <tr style=\"text-align: right;\">\n",
       "      <th></th>\n",
       "      <th>format</th>\n",
       "      <th>file_num</th>\n",
       "      <th>avg_size(KB)</th>\n",
       "    </tr>\n",
       "  </thead>\n",
       "  <tbody>\n",
       "    <tr>\n",
       "      <th>maestro</th>\n",
       "      <td>midi</td>\n",
       "      <td>1276</td>\n",
       "      <td>64.187625</td>\n",
       "    </tr>\n",
       "    <tr>\n",
       "      <th>musicnet</th>\n",
       "      <td>midi</td>\n",
       "      <td>322</td>\n",
       "      <td>30.557414</td>\n",
       "    </tr>\n",
       "    <tr>\n",
       "      <th>POP909</th>\n",
       "      <td>midi</td>\n",
       "      <td>2898</td>\n",
       "      <td>13.598484</td>\n",
       "    </tr>\n",
       "    <tr>\n",
       "      <th>nottingham</th>\n",
       "      <td>abc</td>\n",
       "      <td>14</td>\n",
       "      <td>34.595843</td>\n",
       "    </tr>\n",
       "  </tbody>\n",
       "</table>\n",
       "</div>"
      ],
      "text/plain": [
       "           format  file_num  avg_size(KB)\n",
       "maestro      midi      1276     64.187625\n",
       "musicnet     midi       322     30.557414\n",
       "POP909       midi      2898     13.598484\n",
       "nottingham    abc        14     34.595843"
      ]
     },
     "execution_count": 11,
     "metadata": {},
     "output_type": "execute_result"
    }
   ],
   "source": [
    "# show file numbers and average file size(in KB) for each dataset\n",
    "# show in pandas dataframe\n",
    "import pandas as pd\n",
    "dataset_stat = pd.DataFrame()\n",
    "for name, files in MIDI_DATASET.items():\n",
    "    dataset_stat.loc[name, 'format'] = 'midi'\n",
    "    dataset_stat.loc[name, 'file_num'] = len(files)\n",
    "    dataset_stat.loc[name, 'avg_size(KB)'] = sum(Path(f).stat().st_size for f in files) / len(files) / 1024\n",
    "\n",
    "for name, files in ABC_DATASET.items():\n",
    "    dataset_stat.loc[name, 'format'] = 'abc'\n",
    "    dataset_stat.loc[name, 'file_num'] = len(files)\n",
    "    dataset_stat.loc[name, 'avg_size(KB)'] = sum(Path(f).stat().st_size for f in files) / len(files) / 1024\n",
    "\n",
    "# set file number to integer\n",
    "dataset_stat['file_num'] = dataset_stat['file_num'].astype(int)\n",
    "dataset_stat"
   ]
  },
  {
   "cell_type": "code",
   "execution_count": 12,
   "metadata": {},
   "outputs": [
    {
     "name": "stdout",
     "output_type": "stream",
     "text": [
      "MAX_FILES_PER_DATASET: 2898\n",
      "REPEAT_TIMES: 5\n"
     ]
    }
   ],
   "source": [
    "MAX_FILES_PER_DATASET = int(dataset_stat['file_num'].max())  \n",
    "REPEAT_TIMES = 5\n",
    "\n",
    "# MAX_FILES_PER_DATASET = 2 # for testing\n",
    "# REPEAT_TIMES = 2 # for testing\n",
    "\n",
    "print(f\"MAX_FILES_PER_DATASET: {MAX_FILES_PER_DATASET}\")\n",
    "print(f\"REPEAT_TIMES: {REPEAT_TIMES}\")"
   ]
  },
  {
   "cell_type": "code",
   "execution_count": 13,
   "metadata": {},
   "outputs": [
    {
     "name": "stdout",
     "output_type": "stream",
     "text": [
      "benchmarking maestro...\n"
     ]
    },
    {
     "name": "stderr",
     "output_type": "stream",
     "text": [
      "r symusic: 100%|██████████| 1276/1276 [00:00<00:00, 1414.97it/s]\n",
      "r symusic: 100%|██████████| 1276/1276 [00:00<00:00, 1642.69it/s]\n",
      "r symusic: 100%|██████████| 1276/1276 [00:00<00:00, 1859.18it/s]\n",
      "r symusic: 100%|██████████| 1276/1276 [00:00<00:00, 1974.16it/s]\n",
      "r symusic: 100%|██████████| 1276/1276 [00:00<00:00, 1815.48it/s]\n",
      "r midifile: 100%|██████████| 1276/1276 [00:05<00:00, 217.65it/s]\n",
      "r midifile: 100%|██████████| 1276/1276 [00:05<00:00, 229.02it/s]\n",
      "r midifile: 100%|██████████| 1276/1276 [00:05<00:00, 220.63it/s]\n",
      "r midifile: 100%|██████████| 1276/1276 [00:05<00:00, 216.59it/s]\n",
      "r midifile: 100%|██████████| 1276/1276 [00:05<00:00, 228.77it/s]\n",
      "r miditoolkit:  16%|█▌        | 198/1276 [00:28<01:50,  9.80it/s]"
     ]
    }
   ],
   "source": [
    "def bench_midi(files: List[str], repeat=10):\n",
    "    def bench_read(lib, load, _files):\n",
    "        for f in tqdm(_files, desc=f'r {lib}'):\n",
    "            load(f)\n",
    "\n",
    "    def bench_rw(lib, load, dump, _files):\n",
    "        for f in tqdm(_files, desc=f'w {lib}'):\n",
    "            score = load(f)\n",
    "            dump(score, './tmp')\n",
    "    \n",
    "    env = globals()\n",
    "    env.update(locals())\n",
    "    \n",
    "    read_time = {\n",
    "        'symusic': timeit.timeit('bench_read(\"symusic\", sm.Score, files)', number=repeat, globals=env),\n",
    "        'midifile': timeit.timeit('bench_read(\"midifile\", mf.load, files)', number=repeat, globals=env),\n",
    "        'miditoolkit': timeit.timeit('bench_read(\"miditoolkit\", mtk.MidiFile, files)', number=repeat, globals=env),\n",
    "        'prettymidi': timeit.timeit('bench_read(\"prettymidi\", pm.PrettyMIDI, files)', number=repeat, globals=env),\n",
    "        # 'music21': timeit.timeit('bench_read(m21.converter.parse, files)', number=repeat, globals=env),\n",
    "    }\n",
    "    write_time = {\n",
    "        'symusic': timeit.timeit('bench_rw(\"symusic\", sm.Score, lambda x,y: x.dump_midi(y), files)', number=repeat, globals=env),\n",
    "        'midifile': timeit.timeit('bench_rw(\"midifile\", mf.load, lambda x,y: x.dump_midi(y), files)', number=repeat, globals=env),\n",
    "        'miditoolkit': timeit.timeit('bench_rw(\"miditoolkit\", mtk.MidiFile, lambda x,y: x.dump(y), files)', number=repeat, globals=env),\n",
    "        'prettymidi': timeit.timeit('bench_rw(\"prettymidi\", pm.PrettyMIDI, lambda x,y: x.write(y), files)', number=repeat, globals=env),\n",
    "        # 'music21': timeit.timeit('bench_rw(m21.converter.parse, lambda x,y: x.write(\"midi\", y), files)', number=repeat, globals=env),\n",
    "    }\n",
    "    os.remove('./tmp')\n",
    "    read_time = {\n",
    "        k: v / repeat\n",
    "        for k, v in read_time.items()\n",
    "    }\n",
    "    write_time = {\n",
    "        k: v / repeat - read_time[k]\n",
    "        for k, v in write_time.items()\n",
    "    }\n",
    "    return read_time, write_time\n",
    "from collections import defaultdict\n",
    "midi_read_benchmark = defaultdict(list)\n",
    "midi_write_benchmark = defaultdict(list)\n",
    "\n",
    "for name, files in MIDI_DATASET.items():\n",
    "    print(f\"benchmarking {name}...\")\n",
    "    read_time, write_time = bench_midi(files[:MAX_FILES_PER_DATASET], repeat=REPEAT_TIMES)\n",
    "    for k, v in read_time.items():\n",
    "        midi_read_benchmark[k].append(v)\n",
    "    for k, v in write_time.items():\n",
    "        midi_write_benchmark[k].append(v)"
   ]
  },
  {
   "cell_type": "code",
   "execution_count": null,
   "metadata": {},
   "outputs": [
    {
     "name": "stdout",
     "output_type": "stream",
     "text": [
      "read midi files:\n",
      "           symusic  midifile  miditoolkit  prettymidi\n",
      "maestro   0.002037  0.004298     0.050203    0.052028\n",
      "musicnet  0.003194  0.017434     0.280820    0.238651\n",
      "POP909    0.002585  0.004504     0.051770    0.052423\n",
      "\n",
      "write midi files:\n",
      "           symusic  midifile  miditoolkit  prettymidi\n",
      "maestro   0.001141  0.000429     0.058249    0.129690\n",
      "musicnet  0.002275  0.000241     0.193377    0.436947\n",
      "POP909    0.001501  0.001330     0.069085    0.067334\n"
     ]
    }
   ],
   "source": [
    "midi_read_pd = pd.DataFrame(dict(midi_read_benchmark), index=MIDI_DATASET.keys())\n",
    "midi_write_pd = pd.DataFrame(dict(midi_write_benchmark), index=MIDI_DATASET.keys())\n",
    "# dump to csv\n",
    "midi_read_pd.to_csv('midi_read_benchmark.csv')\n",
    "midi_write_pd.to_csv('midi_write_benchmark.csv')\n",
    "\n",
    "print(\"read midi files:\")\n",
    "print(midi_read_pd)\n",
    "print(\"\\nwrite midi files:\")\n",
    "print(midi_write_pd)"
   ]
  },
  {
   "cell_type": "code",
   "execution_count": null,
   "metadata": {},
   "outputs": [
    {
     "name": "stdout",
     "output_type": "stream",
     "text": [
      "benchmarking nottingham...\n"
     ]
    },
    {
     "name": "stderr",
     "output_type": "stream",
     "text": [
      "r symusic: 100%|██████████| 2/2 [00:00<00:00, 40.12it/s]\n",
      "r symusic: 100%|██████████| 2/2 [00:00<00:00, 47.73it/s]\n",
      "r symusic: 100%|██████████| 2/2 [00:00<00:00, 46.20it/s]\n",
      "r music21: 100%|██████████| 2/2 [00:00<00:00,  3.79it/s]\n",
      "r music21: 100%|██████████| 2/2 [00:00<00:00,  3.48it/s]\n",
      "r music21: 100%|██████████| 2/2 [00:00<00:00,  3.20it/s]\n",
      "w symusic: 100%|██████████| 2/2 [00:00<00:00, 24.63it/s]\n",
      "w symusic: 100%|██████████| 2/2 [00:00<00:00, 29.10it/s]\n",
      "w symusic: 100%|██████████| 2/2 [00:00<00:00, 19.82it/s]\n"
     ]
    }
   ],
   "source": [
    "def bench_abc(files: List[str], repeat=10):\n",
    "    def bench_read(lib, load, _files):\n",
    "        for f in tqdm(_files, desc=f'r {lib}'):\n",
    "            load(f)\n",
    "\n",
    "    def bench_rw(lib, load, dump, _files):\n",
    "        for f in tqdm(_files, desc=f'w {lib}'):\n",
    "            score = load(f)\n",
    "            dump(score, './tmp')\n",
    "    \n",
    "    env = globals()\n",
    "    env.update(locals())\n",
    "    \n",
    "    read_time = {\n",
    "        'symusic': timeit.timeit('bench_read(\"symusic\", sm.Score, files)', number=repeat, globals=env),\n",
    "        'music21': timeit.timeit('bench_read(\"music21\", m21.converter.parse, files)', number=repeat, globals=env),\n",
    "    }\n",
    "    write_time = {\n",
    "        'symusic': timeit.timeit('bench_rw(\"symusic\", sm.Score, lambda x,y: x.dump_abc(y), files)', number=repeat, globals=env),\n",
    "        'music21': float('nan'),\n",
    "    }\n",
    "    os.remove('./tmp')\n",
    "\n",
    "    read_time = {\n",
    "        k: v / repeat\n",
    "        for k, v in read_time.items()\n",
    "    }\n",
    "    write_time = {\n",
    "        k: v / repeat - read_time[k]\n",
    "        for k, v in write_time.items()\n",
    "    }\n",
    "    return read_time, write_time\n",
    "\n",
    "abc_read_benchmark = defaultdict(list)\n",
    "abc_write_benchmark = defaultdict(list)\n",
    "\n",
    "for name, files in ABC_DATASET.items():\n",
    "    print(f\"benchmarking {name}...\")\n",
    "    read_time, write_time = bench_abc(files[:MAX_FILES_PER_DATASET], repeat=REPEAT_TIMES)\n",
    "    for k, v in read_time.items():\n",
    "        abc_read_benchmark[k].append(v)\n",
    "    for k, v in write_time.items():\n",
    "        abc_write_benchmark[k].append(v)\n"
   ]
  },
  {
   "cell_type": "code",
   "execution_count": null,
   "metadata": {},
   "outputs": [
    {
     "name": "stdout",
     "output_type": "stream",
     "text": [
      "read abc files:\n",
      "            symusic   music21\n",
      "nottingham  0.04303  0.577519\n",
      "\n",
      "write abc files:\n",
      "             symusic  music21\n",
      "nottingham  0.041747      NaN\n"
     ]
    }
   ],
   "source": [
    "abc_read_pd = pd.DataFrame(dict(abc_read_benchmark), index=ABC_DATASET.keys())\n",
    "abc_write_pd = pd.DataFrame(dict(abc_write_benchmark), index=ABC_DATASET.keys())\n",
    "# dump to csv\n",
    "abc_read_pd.to_csv('abc_read_benchmark.csv')\n",
    "abc_write_pd.to_csv('abc_write_benchmark.csv')\n",
    "\n",
    "print(\"read abc files:\")\n",
    "print(abc_read_pd)\n",
    "print(\"\\nwrite abc files:\")\n",
    "print(abc_write_pd)"
   ]
  }
 ],
 "metadata": {
  "kernelspec": {
   "display_name": "311",
   "language": "python",
   "name": "python3"
  },
  "language_info": {
   "codemirror_mode": {
    "name": "ipython",
    "version": 3
   },
   "file_extension": ".py",
   "mimetype": "text/x-python",
   "name": "python",
   "nbconvert_exporter": "python",
   "pygments_lexer": "ipython3",
   "version": "3.11.8"
  }
 },
 "nbformat": 4,
 "nbformat_minor": 2
}
