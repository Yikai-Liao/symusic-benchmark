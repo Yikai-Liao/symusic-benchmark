{
 "cells": [
  {
   "cell_type": "code",
   "execution_count": 20,
   "metadata": {},
   "outputs": [],
   "source": [
    "from typing import List\n",
    "from pathlib import Path\n",
    "import midifile_binding as mf \n",
    "import symusic as sm \n",
    "import miditoolkit as mtk\n",
    "import pretty_midi as pm\n",
    "import music21 as m21\n",
    "import timeit\n",
    "import os\n",
    "from tqdm import tqdm\n",
    "from time import sleep\n"
   ]
  },
  {
   "cell_type": "code",
   "execution_count": 21,
   "metadata": {},
   "outputs": [
    {
     "name": "stdout",
     "output_type": "stream",
     "text": [
      "Scanning datasets to filter out invalid files...\n"
     ]
    },
    {
     "name": "stderr",
     "output_type": "stream",
     "text": [
      "maestro: 100%|██████████| 1276/1276 [00:00<00:00, 1746.27it/s]\n",
      "musicnet: 100%|██████████| 330/330 [00:00<00:00, 3237.00it/s]\n",
      "POP909: 100%|██████████| 2898/2898 [00:00<00:00, 4048.59it/s]\n",
      "nottingham: 100%|██████████| 14/14 [00:00<00:00, 49.06it/s]\n"
     ]
    }
   ],
   "source": [
    "MIDI_DATASET_NAMES = ('maestro', 'musicnet', 'POP909')\n",
    "ABC_DATASET_NAMES = ('nottingham',)\n",
    "DATASET_ROOT = \"./symusic_benchmark_datasets\"\n",
    "\n",
    "def is_valid(f: str):\n",
    "    try:\n",
    "        sm.Score(f)\n",
    "        return True\n",
    "    except:\n",
    "        return False\n",
    "\n",
    "print(\"Scanning datasets to filter out invalid files...\")\n",
    "sleep(0.1)\n",
    "MIDI_DATASET = {\n",
    "    name: sorted(list(filter(\n",
    "        is_valid, \n",
    "        tqdm(list(map(str, Path(DATASET_ROOT).joinpath(name).rglob('*.mid*'))), desc=name)\n",
    "    )))  for name in MIDI_DATASET_NAMES\n",
    "}\n",
    "\n",
    "ABC_DATASET = {\n",
    "    name: sorted(list(filter(\n",
    "        is_valid, \n",
    "        tqdm(list(map(str, Path(DATASET_ROOT).joinpath(name).rglob('*.abc'))), desc=name)\n",
    "    ))) for name in ABC_DATASET_NAMES\n",
    "}"
   ]
  },
  {
   "cell_type": "code",
   "execution_count": 22,
   "metadata": {},
   "outputs": [
    {
     "data": {
      "text/html": [
       "<div>\n",
       "<style scoped>\n",
       "    .dataframe tbody tr th:only-of-type {\n",
       "        vertical-align: middle;\n",
       "    }\n",
       "\n",
       "    .dataframe tbody tr th {\n",
       "        vertical-align: top;\n",
       "    }\n",
       "\n",
       "    .dataframe thead th {\n",
       "        text-align: right;\n",
       "    }\n",
       "</style>\n",
       "<table border=\"1\" class=\"dataframe\">\n",
       "  <thead>\n",
       "    <tr style=\"text-align: right;\">\n",
       "      <th></th>\n",
       "      <th>format</th>\n",
       "      <th>file_num</th>\n",
       "      <th>avg_size(KB)</th>\n",
       "    </tr>\n",
       "  </thead>\n",
       "  <tbody>\n",
       "    <tr>\n",
       "      <th>maestro</th>\n",
       "      <td>midi</td>\n",
       "      <td>1276</td>\n",
       "      <td>64.187625</td>\n",
       "    </tr>\n",
       "    <tr>\n",
       "      <th>musicnet</th>\n",
       "      <td>midi</td>\n",
       "      <td>322</td>\n",
       "      <td>30.557414</td>\n",
       "    </tr>\n",
       "    <tr>\n",
       "      <th>POP909</th>\n",
       "      <td>midi</td>\n",
       "      <td>2898</td>\n",
       "      <td>13.598484</td>\n",
       "    </tr>\n",
       "    <tr>\n",
       "      <th>nottingham</th>\n",
       "      <td>abc</td>\n",
       "      <td>14</td>\n",
       "      <td>34.595843</td>\n",
       "    </tr>\n",
       "  </tbody>\n",
       "</table>\n",
       "</div>"
      ],
      "text/plain": [
       "           format  file_num  avg_size(KB)\n",
       "maestro      midi      1276     64.187625\n",
       "musicnet     midi       322     30.557414\n",
       "POP909       midi      2898     13.598484\n",
       "nottingham    abc        14     34.595843"
      ]
     },
     "execution_count": 22,
     "metadata": {},
     "output_type": "execute_result"
    }
   ],
   "source": [
    "# show file numbers and average file size(in KB) for each dataset\n",
    "# show in pandas dataframe\n",
    "import pandas as pd\n",
    "dataset_stat = pd.DataFrame()\n",
    "for name, files in MIDI_DATASET.items():\n",
    "    dataset_stat.loc[name, 'format'] = 'midi'\n",
    "    dataset_stat.loc[name, 'file_num'] = len(files)\n",
    "    dataset_stat.loc[name, 'avg_size(KB)'] = sum(Path(f).stat().st_size for f in files) / len(files) / 1024\n",
    "\n",
    "for name, files in ABC_DATASET.items():\n",
    "    dataset_stat.loc[name, 'format'] = 'abc'\n",
    "    dataset_stat.loc[name, 'file_num'] = len(files)\n",
    "    dataset_stat.loc[name, 'avg_size(KB)'] = sum(Path(f).stat().st_size for f in files) / len(files) / 1024\n",
    "\n",
    "# set file number to integer\n",
    "dataset_stat['file_num'] = dataset_stat['file_num'].astype(int)\n",
    "dataset_stat"
   ]
  },
  {
   "cell_type": "code",
   "execution_count": 68,
   "metadata": {},
   "outputs": [
    {
     "name": "stdout",
     "output_type": "stream",
     "text": [
      "MAX_FILES_PER_DATASET: 2898\n",
      "REPEAT_TIMES: 5\n"
     ]
    }
   ],
   "source": [
    "MAX_FILES_PER_DATASET = int(dataset_stat['file_num'].max())  \n",
    "REPEAT_TIMES = 5\n",
    "\n",
    "# MAX_FILES_PER_DATASET = 2 # for testing\n",
    "# REPEAT_TIMES = 2 # for testing\n",
    "\n",
    "print(f\"MAX_FILES_PER_DATASET: {MAX_FILES_PER_DATASET}\")\n",
    "print(f\"REPEAT_TIMES: {REPEAT_TIMES}\")"
   ]
  },
  {
   "cell_type": "code",
   "execution_count": 50,
   "metadata": {},
   "outputs": [
    {
     "name": "stdout",
     "output_type": "stream",
     "text": [
      "benchmarking maestro...\n",
      "benchmarking musicnet...\n",
      "benchmarking POP909...\n",
      "defaultdict(<class 'list'>, {'symusic': [0.0010693999999299801, 0.001066233333403943, 0.0012448333339610447], 'midifile': [0.001969166666337211, 0.010396899999856638, 0.0016550666672022392], 'miditoolkit': [0.057998033333812295, 0.2578369999998055, 0.03902103333408983], 'prettymidi': [0.057695866666714814, 0.2720793666667305, 0.044580600000093305], 'music21': [0.42597036666726734, 0.5057103666670931, 0.7620659333321479]})\n",
      "defaultdict(<class 'list'>, {'symusic': [0.0008527000002989855, 0.002921166667268456, 0.0009103666658726677], 'midifile': [0.0010294000009404653, 0.004542199999074608, 0.0019098666671197864], 'miditoolkit': [0.06206126666681181, 0.28408510000008386, 0.06564246666554632], 'prettymidi': [0.09847189999951905, 0.454017066667196, 0.08055553333421508], 'music21': [1.837374733332884, 9.21867523333276, 2.909512000001996]})\n"
     ]
    }
   ],
   "source": [
    "def bench_midi(files: List[str], repeat=10):\n",
    "    def bench_read(load, _files):\n",
    "        for f in _files:\n",
    "            load(f)\n",
    "\n",
    "    def bench_rw(load, dump, _files):\n",
    "        for f in _files:\n",
    "            score = load(f)\n",
    "            dump(score, './tmp')\n",
    "    \n",
    "    env = globals()\n",
    "    env.update(locals())\n",
    "    \n",
    "    read_time = {\n",
    "        'symusic': timeit.timeit('bench_read(sm.Score, files)', number=repeat, globals=env),\n",
    "        'midifile': timeit.timeit('bench_read(mf.load, files)', number=repeat, globals=env),\n",
    "        'miditoolkit': timeit.timeit('bench_read(mtk.MidiFile, files)', number=repeat, globals=env),\n",
    "        'prettymidi': timeit.timeit('bench_read(pm.PrettyMIDI, files)', number=repeat, globals=env),\n",
    "        'music21': timeit.timeit('bench_read(m21.converter.parse, files)', number=repeat, globals=env),\n",
    "    }\n",
    "    write_time = {\n",
    "        'symusic': timeit.timeit('bench_rw(sm.Score, lambda x,y: x.dump_midi(y), files)', number=repeat, globals=env),\n",
    "        'midifile': timeit.timeit('bench_rw(mf.load, lambda x,y: x.dump_midi(y), files)', number=repeat, globals=env),\n",
    "        'miditoolkit': timeit.timeit('bench_rw(mtk.MidiFile, lambda x,y: x.dump(y), files)', number=repeat, globals=env),\n",
    "        'prettymidi': timeit.timeit('bench_rw(pm.PrettyMIDI, lambda x,y: x.write(y), files)', number=repeat, globals=env),\n",
    "        'music21': timeit.timeit('bench_rw(m21.converter.parse, lambda x,y: x.write(\"midi\", y), files)', number=repeat, globals=env),\n",
    "    }\n",
    "    os.remove('./tmp')\n",
    "    read_time = {\n",
    "        k: v / repeat\n",
    "        for k, v in read_time.items()\n",
    "    }\n",
    "    write_time = {\n",
    "        k: v / repeat - read_time[k]\n",
    "        for k, v in write_time.items()\n",
    "    }\n",
    "    return read_time, write_time\n",
    "from collections import defaultdict\n",
    "midi_read_benchmark = defaultdict(list)\n",
    "midi_write_benchmark = defaultdict(list)\n",
    "\n",
    "for name, files in MIDI_DATASET.items():\n",
    "    print(f\"benchmarking {name}...\")\n",
    "    read_time, write_time = bench_midi(files[:MAX_FILES_PER_DATASET], repeat=3)\n",
    "    for k, v in read_time.items():\n",
    "        midi_read_benchmark[k].append(v)\n",
    "    for k, v in write_time.items():\n",
    "        midi_write_benchmark[k].append(v)\n",
    "\n",
    "print(midi_read_benchmark)\n",
    "print(midi_write_benchmark)"
   ]
  },
  {
   "cell_type": "code",
   "execution_count": 63,
   "metadata": {},
   "outputs": [
    {
     "name": "stdout",
     "output_type": "stream",
     "text": [
      "read midi files:\n",
      "           symusic  midifile  miditoolkit  prettymidi   music21\n",
      "maestro   0.001069  0.001969     0.057998    0.057696  0.425970\n",
      "musicnet  0.001066  0.010397     0.257837    0.272079  0.505710\n",
      "POP909    0.001245  0.001655     0.039021    0.044581  0.762066\n",
      "\n",
      "write midi files:\n",
      "           symusic  midifile  miditoolkit  prettymidi   music21\n",
      "maestro   0.000853  0.001029     0.062061    0.098472  1.837375\n",
      "musicnet  0.002921  0.004542     0.284085    0.454017  9.218675\n",
      "POP909    0.000910  0.001910     0.065642    0.080556  2.909512\n"
     ]
    }
   ],
   "source": [
    "midi_read_pd = pd.DataFrame(dict(midi_read_benchmark), index=MIDI_DATASET.keys())\n",
    "midi_write_pd = pd.DataFrame(dict(midi_write_benchmark), index=MIDI_DATASET.keys())\n",
    "print(\"read midi files:\")\n",
    "print(midi_read_pd)\n",
    "print(\"\\nwrite midi files:\")\n",
    "print(midi_write_pd)"
   ]
  },
  {
   "cell_type": "code",
   "execution_count": 64,
   "metadata": {},
   "outputs": [
    {
     "name": "stdout",
     "output_type": "stream",
     "text": [
      "benchmarking nottingham...\n",
      "defaultdict(<class 'list'>, {'symusic': [0.051845133332487116], 'music21': [3.208246866666741]})\n",
      "defaultdict(<class 'list'>, {'symusic': [0.074953733333435], 'music21': [nan]})\n"
     ]
    }
   ],
   "source": [
    "def bench_abc(files: List[str], repeat=10):\n",
    "    def bench_read(load, _files):\n",
    "        for f in _files:\n",
    "            load(f)\n",
    "\n",
    "    def bench_rw(load, dump, _files):\n",
    "        for f in _files:\n",
    "            score = load(f)\n",
    "            dump(score, './tmp')\n",
    "    \n",
    "    env = globals()\n",
    "    env.update(locals())\n",
    "    \n",
    "    read_time = {\n",
    "        'symusic': timeit.timeit('bench_read(sm.Score, files)', number=repeat, globals=env),\n",
    "        'music21': timeit.timeit('bench_read(m21.converter.parse, files)', number=repeat, globals=env),\n",
    "    }\n",
    "    write_time = {\n",
    "        'symusic': timeit.timeit('bench_rw(sm.Score, lambda x,y: x.dump_abc(y), files)', number=repeat, globals=env),\n",
    "        # music21 for NA\n",
    "        'music21': float('nan'),\n",
    "    }\n",
    "    os.remove('./tmp')\n",
    "\n",
    "    read_time = {\n",
    "        k: v / repeat\n",
    "        for k, v in read_time.items()\n",
    "    }\n",
    "    write_time = {\n",
    "        k: v / repeat - read_time[k]\n",
    "        for k, v in write_time.items()\n",
    "    }\n",
    "    return read_time, write_time\n",
    "\n",
    "abc_read_benchmark = defaultdict(list)\n",
    "abc_write_benchmark = defaultdict(list)\n",
    "\n",
    "for name, files in ABC_DATASET.items():\n",
    "    print(f\"benchmarking {name}...\")\n",
    "    read_time, write_time = bench_abc(files[:MAX_FILES_PER_DATASET], repeat=3)\n",
    "    for k, v in read_time.items():\n",
    "        abc_read_benchmark[k].append(v)\n",
    "    for k, v in write_time.items():\n",
    "        abc_write_benchmark[k].append(v)\n",
    "\n",
    "print(abc_read_benchmark)\n",
    "print(abc_write_benchmark)\n"
   ]
  },
  {
   "cell_type": "code",
   "execution_count": 65,
   "metadata": {},
   "outputs": [
    {
     "name": "stdout",
     "output_type": "stream",
     "text": [
      "read abc files:\n",
      "             symusic   music21\n",
      "nottingham  0.051845  3.208247\n",
      "\n",
      "write abc files:\n",
      "             symusic  music21\n",
      "nottingham  0.074954      NaN\n"
     ]
    }
   ],
   "source": [
    "abc_read_pd = pd.DataFrame(dict(abc_read_benchmark), index=ABC_DATASET.keys())\n",
    "abc_write_pd = pd.DataFrame(dict(abc_write_benchmark), index=ABC_DATASET.keys())\n",
    "print(\"read abc files:\")\n",
    "print(abc_read_pd)\n",
    "print(\"\\nwrite abc files:\")\n",
    "print(abc_write_pd)"
   ]
  }
 ],
 "metadata": {
  "kernelspec": {
   "display_name": "311",
   "language": "python",
   "name": "python3"
  },
  "language_info": {
   "codemirror_mode": {
    "name": "ipython",
    "version": 3
   },
   "file_extension": ".py",
   "mimetype": "text/x-python",
   "name": "python",
   "nbconvert_exporter": "python",
   "pygments_lexer": "ipython3",
   "version": "3.11.8"
  }
 },
 "nbformat": 4,
 "nbformat_minor": 2
}
