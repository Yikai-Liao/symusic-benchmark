{
 "cells": [
  {
   "cell_type": "code",
   "execution_count": 9,
   "metadata": {},
   "outputs": [],
   "source": [
    "from typing import List\n",
    "from pathlib import Path\n",
    "import midifile_binding as mf \n",
    "import symusic as sm \n",
    "import miditoolkit as mtk\n",
    "import pretty_midi as pm\n",
    "import music21 as m21\n",
    "import timeit\n",
    "import os\n",
    "from time import sleep\n"
   ]
  },
  {
   "cell_type": "code",
   "execution_count": 10,
   "metadata": {},
   "outputs": [],
   "source": [
    "ENABLE_TQDM = False\n",
    "\n",
    "if ENABLE_TQDM:\n",
    "    from tqdm import tqdm\n",
    "else:\n",
    "    def tqdm(iterable, *args, **kwargs):\n",
    "        return iterable"
   ]
  },
  {
   "cell_type": "code",
   "execution_count": 11,
   "metadata": {},
   "outputs": [
    {
     "name": "stdout",
     "output_type": "stream",
     "text": [
      "Scanning datasets to filter out invalid files...\n"
     ]
    }
   ],
   "source": [
    "MIDI_DATASET_NAMES = ('maestro', 'musicnet', 'POP909')\n",
    "ABC_DATASET_NAMES = ('nottingham',)\n",
    "DATASET_ROOT = \"./symusic_benchmark_datasets\"\n",
    "\n",
    "def is_valid(f: str):\n",
    "    try:\n",
    "        sm.Score(f)\n",
    "        return True\n",
    "    except:\n",
    "        return False\n",
    "\n",
    "print(\"Scanning datasets to filter out invalid files...\")\n",
    "sleep(0.1)\n",
    "MIDI_DATASET = {\n",
    "    name: sorted(list(filter(\n",
    "        is_valid, \n",
    "        tqdm(list(map(str, Path(DATASET_ROOT).joinpath(name).rglob('*.mid*'))), desc=name)\n",
    "    )))  for name in MIDI_DATASET_NAMES\n",
    "}\n",
    "\n",
    "ABC_DATASET = {\n",
    "    name: sorted(list(filter(\n",
    "        is_valid, \n",
    "        tqdm(list(map(str, Path(DATASET_ROOT).joinpath(name).rglob('*.abc'))), desc=name)\n",
    "    ))) for name in ABC_DATASET_NAMES\n",
    "}"
   ]
  },
  {
   "cell_type": "code",
   "execution_count": 12,
   "metadata": {},
   "outputs": [
    {
     "data": {
      "text/html": [
       "<div>\n",
       "<style scoped>\n",
       "    .dataframe tbody tr th:only-of-type {\n",
       "        vertical-align: middle;\n",
       "    }\n",
       "\n",
       "    .dataframe tbody tr th {\n",
       "        vertical-align: top;\n",
       "    }\n",
       "\n",
       "    .dataframe thead th {\n",
       "        text-align: right;\n",
       "    }\n",
       "</style>\n",
       "<table border=\"1\" class=\"dataframe\">\n",
       "  <thead>\n",
       "    <tr style=\"text-align: right;\">\n",
       "      <th></th>\n",
       "      <th>format</th>\n",
       "      <th>file_num</th>\n",
       "      <th>avg_size(KB)</th>\n",
       "    </tr>\n",
       "  </thead>\n",
       "  <tbody>\n",
       "    <tr>\n",
       "      <th>maestro</th>\n",
       "      <td>midi</td>\n",
       "      <td>1276</td>\n",
       "      <td>64.187625</td>\n",
       "    </tr>\n",
       "    <tr>\n",
       "      <th>musicnet</th>\n",
       "      <td>midi</td>\n",
       "      <td>322</td>\n",
       "      <td>30.557414</td>\n",
       "    </tr>\n",
       "    <tr>\n",
       "      <th>POP909</th>\n",
       "      <td>midi</td>\n",
       "      <td>2898</td>\n",
       "      <td>13.598484</td>\n",
       "    </tr>\n",
       "    <tr>\n",
       "      <th>nottingham</th>\n",
       "      <td>abc</td>\n",
       "      <td>14</td>\n",
       "      <td>34.595843</td>\n",
       "    </tr>\n",
       "  </tbody>\n",
       "</table>\n",
       "</div>"
      ],
      "text/plain": [
       "           format  file_num  avg_size(KB)\n",
       "maestro      midi      1276     64.187625\n",
       "musicnet     midi       322     30.557414\n",
       "POP909       midi      2898     13.598484\n",
       "nottingham    abc        14     34.595843"
      ]
     },
     "execution_count": 12,
     "metadata": {},
     "output_type": "execute_result"
    }
   ],
   "source": [
    "# show file numbers and average file size(in KB) for each dataset\n",
    "# show in pandas dataframe\n",
    "import pandas as pd\n",
    "dataset_stat = pd.DataFrame()\n",
    "for name, files in MIDI_DATASET.items():\n",
    "    dataset_stat.loc[name, 'format'] = 'midi'\n",
    "    dataset_stat.loc[name, 'file_num'] = len(files)\n",
    "    dataset_stat.loc[name, 'avg_size(KB)'] = sum(Path(f).stat().st_size for f in files) / len(files) / 1024\n",
    "\n",
    "for name, files in ABC_DATASET.items():\n",
    "    dataset_stat.loc[name, 'format'] = 'abc'\n",
    "    dataset_stat.loc[name, 'file_num'] = len(files)\n",
    "    dataset_stat.loc[name, 'avg_size(KB)'] = sum(Path(f).stat().st_size for f in files) / len(files) / 1024\n",
    "\n",
    "# set file number to integer\n",
    "dataset_stat['file_num'] = dataset_stat['file_num'].astype(int)\n",
    "dataset_stat"
   ]
  },
  {
   "cell_type": "code",
   "execution_count": 13,
   "metadata": {},
   "outputs": [
    {
     "name": "stdout",
     "output_type": "stream",
     "text": [
      "MAX_FILES_PER_DATASET: 20\n",
      "REPEAT_TIMES: 2\n"
     ]
    }
   ],
   "source": [
    "# MAX_FILES_PER_DATASET = int(dataset_stat['file_num'].max())  \n",
    "# REPEAT_TIMES = 5\n",
    "\n",
    "MAX_FILES_PER_DATASET = 20 # for testing\n",
    "REPEAT_TIMES = 2 # for testing\n",
    "\n",
    "print(f\"MAX_FILES_PER_DATASET: {MAX_FILES_PER_DATASET}\")\n",
    "print(f\"REPEAT_TIMES: {REPEAT_TIMES}\")"
   ]
  },
  {
   "cell_type": "code",
   "execution_count": 14,
   "metadata": {},
   "outputs": [
    {
     "name": "stdout",
     "output_type": "stream",
     "text": [
      "benchmarking maestro...\n",
      "benchmarking musicnet...\n",
      "benchmarking POP909...\n"
     ]
    }
   ],
   "source": [
    "def bench_midi(files: List[str], repeat=10):\n",
    "    def bench_read(lib, load, _files):\n",
    "        for f in tqdm(_files, desc=f'r {lib}', leave=False):\n",
    "            try:\n",
    "                load(f)\n",
    "            except Exception as e:\n",
    "                continue\n",
    "\n",
    "    def bench_rw(lib, load, dump, _files):\n",
    "        for f in tqdm(_files, desc=f'w {lib}', leave=False):\n",
    "            try:\n",
    "                score = load(f)\n",
    "                dump(score, './tmp')\n",
    "            except Exception as e:\n",
    "                continue\n",
    "    \n",
    "    env = globals()\n",
    "    env.update(locals())\n",
    "    \n",
    "    read_time = {\n",
    "        'symusic': timeit.timeit('bench_read(\"symusic\", sm.Score, files)', number=repeat*10, globals=env) / 10,\n",
    "        'midifile': timeit.timeit('bench_read(\"midifile\", mf.load, files)', number=repeat*10, globals=env) / 10,\n",
    "        'miditoolkit': timeit.timeit('bench_read(\"miditoolkit\", mtk.MidiFile, files)', number=repeat, globals=env),\n",
    "        'prettymidi': timeit.timeit('bench_read(\"prettymidi\", pm.PrettyMIDI, files)', number=repeat, globals=env),\n",
    "        # 'music21': timeit.timeit('bench_read(\"music21\", m21.converter.parse, files)', number=repeat, globals=env),\n",
    "    }\n",
    "    write_time = {\n",
    "        'symusic': timeit.timeit('bench_rw(\"symusic\", sm.Score, lambda x,y: x.dump_midi(y), files)', number=repeat*10, globals=env) / 10,\n",
    "        'midifile': timeit.timeit('bench_rw(\"midifile\", mf.load, lambda x,y: x.dump_midi(y), files)', number=repeat*10, globals=env) / 10,\n",
    "        'miditoolkit': timeit.timeit('bench_rw(\"miditoolkit\", mtk.MidiFile, lambda x,y: x.dump(y), files)', number=repeat, globals=env),\n",
    "        'prettymidi': timeit.timeit('bench_rw(\"prettymidi\", pm.PrettyMIDI, lambda x,y: x.write(y), files)', number=repeat, globals=env),\n",
    "        # 'music21': timeit.timeit('bench_rw(\"music21\", m21.converter.parse, lambda x,y: x.write(\"midi\", y), files)', number=repeat, globals=env),\n",
    "    }\n",
    "    os.remove('./tmp')\n",
    "    read_time = {\n",
    "        k: v / repeat\n",
    "        for k, v in read_time.items()\n",
    "    }\n",
    "    write_time = {\n",
    "        k: v / repeat - read_time[k]\n",
    "        for k, v in write_time.items()\n",
    "    }\n",
    "    return read_time, write_time\n",
    "from collections import defaultdict\n",
    "midi_read_benchmark = defaultdict(list)\n",
    "midi_write_benchmark = defaultdict(list)\n",
    "\n",
    "for name, files in MIDI_DATASET.items():\n",
    "    print(f\"benchmarking {name}...\")\n",
    "    read_time, write_time = bench_midi(files[:MAX_FILES_PER_DATASET], repeat=REPEAT_TIMES)\n",
    "    for k, v in read_time.items():\n",
    "        midi_read_benchmark[k].append(v)\n",
    "    for k, v in write_time.items():\n",
    "        midi_write_benchmark[k].append(v)"
   ]
  },
  {
   "cell_type": "code",
   "execution_count": null,
   "metadata": {},
   "outputs": [
    {
     "name": "stdout",
     "output_type": "stream",
     "text": [
      "read midi files:\n",
      "           symusic  midifile  miditoolkit  prettymidi\n",
      "maestro   0.012643  0.090130     2.174259    2.258202\n",
      "musicnet  0.010135  0.073520     1.641213    1.664417\n",
      "POP909    0.006524  0.021178     0.446981    0.534375\n",
      "\n",
      "write midi files:\n",
      "           symusic  midifile  miditoolkit  prettymidi\n",
      "maestro   0.026264  0.036764     2.652793    4.416016\n",
      "musicnet  0.027687  0.056997     1.858697    3.219449\n",
      "POP909    0.016794  0.027961     0.674522    0.957990\n"
     ]
    }
   ],
   "source": [
    "midi_read_pd = pd.DataFrame(dict(midi_read_benchmark), index=MIDI_DATASET.keys())\n",
    "midi_write_pd = pd.DataFrame(dict(midi_write_benchmark), index=MIDI_DATASET.keys())\n",
    "# dump to csv\n",
    "midi_read_pd.to_csv('midi_read_benchmark.csv')\n",
    "midi_write_pd.to_csv('midi_write_benchmark.csv')\n",
    "\n",
    "print(\"read midi files:\")\n",
    "print(midi_read_pd)\n",
    "print(\"\\nwrite midi files:\")\n",
    "print(midi_write_pd)"
   ]
  },
  {
   "cell_type": "code",
   "execution_count": null,
   "metadata": {},
   "outputs": [
    {
     "name": "stdout",
     "output_type": "stream",
     "text": [
      "benchmarking nottingham...\n"
     ]
    },
    {
     "name": "stderr",
     "output_type": "stream",
     "text": [
      "                                                          \r"
     ]
    }
   ],
   "source": [
    "def bench_abc(files: List[str], repeat=10):\n",
    "    def bench_read(lib, load, _files):\n",
    "        for f in tqdm(_files, desc=f'r {lib}', leave=False):\n",
    "            try:\n",
    "                load(f)\n",
    "            except Exception as e:\n",
    "                continue\n",
    "\n",
    "    def bench_rw(lib, load, dump, _files):\n",
    "        for f in tqdm(_files, desc=f'w {lib}', leave=False):\n",
    "            try:\n",
    "                score = load(f)\n",
    "                dump(score, './tmp')\n",
    "            except Exception as e:\n",
    "                continue\n",
    "    \n",
    "    env = globals()\n",
    "    env.update(locals())\n",
    "    \n",
    "    read_time = {\n",
    "        'symusic': timeit.timeit('bench_read(\"symusic\", sm.Score, files)', number=repeat*10, globals=env) / 10,\n",
    "        'music21': timeit.timeit('bench_read(\"music21\", m21.converter.parse, files)', number=repeat, globals=env),\n",
    "    }\n",
    "    write_time = {\n",
    "        'symusic': timeit.timeit('bench_rw(\"symusic\", sm.Score, lambda x,y: x.dump_abc(y), files)', number=repeat*10, globals=env) / 10,\n",
    "        'music21': float('nan'),\n",
    "    }\n",
    "    os.remove('./tmp')\n",
    "\n",
    "    read_time = {\n",
    "        k: v / repeat\n",
    "        for k, v in read_time.items()\n",
    "    }\n",
    "    write_time = {\n",
    "        k: v / repeat - read_time[k]\n",
    "        for k, v in write_time.items()\n",
    "    }\n",
    "    return read_time, write_time\n",
    "\n",
    "abc_read_benchmark = defaultdict(list)\n",
    "abc_write_benchmark = defaultdict(list)\n",
    "\n",
    "for name, files in ABC_DATASET.items():\n",
    "    print(f\"benchmarking {name}...\")\n",
    "    read_time, write_time = bench_abc(files[:MAX_FILES_PER_DATASET], repeat=REPEAT_TIMES)\n",
    "    for k, v in read_time.items():\n",
    "        abc_read_benchmark[k].append(v)\n",
    "    for k, v in write_time.items():\n",
    "        abc_write_benchmark[k].append(v)\n"
   ]
  },
  {
   "cell_type": "code",
   "execution_count": null,
   "metadata": {},
   "outputs": [
    {
     "name": "stdout",
     "output_type": "stream",
     "text": [
      "read abc files:\n",
      "            symusic   music21\n",
      "nottingham  0.28507  5.444477\n",
      "\n",
      "write abc files:\n",
      "             symusic  music21\n",
      "nottingham  0.276215      NaN\n"
     ]
    }
   ],
   "source": [
    "abc_read_pd = pd.DataFrame(dict(abc_read_benchmark), index=ABC_DATASET.keys())\n",
    "abc_write_pd = pd.DataFrame(dict(abc_write_benchmark), index=ABC_DATASET.keys())\n",
    "# dump to csv\n",
    "abc_read_pd.to_csv('abc_read_benchmark.csv')\n",
    "abc_write_pd.to_csv('abc_write_benchmark.csv')\n",
    "\n",
    "print(\"read abc files:\")\n",
    "print(abc_read_pd)\n",
    "print(\"\\nwrite abc files:\")\n",
    "print(abc_write_pd)"
   ]
  }
 ],
 "metadata": {
  "kernelspec": {
   "display_name": "base",
   "language": "python",
   "name": "python3"
  },
  "language_info": {
   "codemirror_mode": {
    "name": "ipython",
    "version": 3
   },
   "file_extension": ".py",
   "mimetype": "text/x-python",
   "name": "python",
   "nbconvert_exporter": "python",
   "pygments_lexer": "ipython3",
   "version": "3.12.5"
  }
 },
 "nbformat": 4,
 "nbformat_minor": 2
}
