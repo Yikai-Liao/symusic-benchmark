{
 "cells": [
  {
   "cell_type": "code",
   "execution_count": null,
   "metadata": {},
   "outputs": [],
   "source": [
    "from typing import List\n",
    "from pathlib import Path\n",
    "from tqdm import tqdm\n",
    "from itertools import chain\n",
    "import pretty_midi as pm\n",
    "import symusic as sm\n",
    "import timeit\n",
    "import os\n",
    "\n",
    "MIDI_DATASET_NAMES = ('maestro', 'musicnet', 'POP909', 'giantmidi')\n",
    "ABC_DATASET_NAMES = ('nottingham',)\n",
    "DATASET_ROOT = \"./symusic_benchmark_datasets\"\n",
    "\n",
    "def is_valid(f: str):\n",
    "    try:\n",
    "        sm.Score(f)\n",
    "        return True\n",
    "    except:\n",
    "        return False\n",
    "\n",
    "MIDI_DATASET = list(chain(\n",
    "    *list(list(filter(\n",
    "        is_valid, \n",
    "        map(str, Path(DATASET_ROOT).joinpath(name).rglob('*.mid*'))\n",
    "    )) for name in MIDI_DATASET_NAMES)\n",
    "))\n",
    "print(f\"Total MIDI Num: {len(MIDI_DATASET)}\")\n",
    "\n",
    "example_p = \"xiyangxiaogu.mid\""
   ]
  },
  {
   "cell_type": "markdown",
   "metadata": {},
   "source": [
    "## Speed Test (symusic)"
   ]
  },
  {
   "cell_type": "code",
   "execution_count": null,
   "metadata": {},
   "outputs": [],
   "source": [
    "for p in tqdm(MIDI_DATASET):\n",
    "    _ = sm.Score(str(p))"
   ]
  },
  {
   "cell_type": "markdown",
   "metadata": {},
   "source": [
    "## Multiple Types of Time Unit Support"
   ]
  },
  {
   "cell_type": "code",
   "execution_count": null,
   "metadata": {},
   "outputs": [],
   "source": [
    "example_tick = sm.Score(example_p, ttype='tick') # default\n",
    "print(f\"Note repr full: \\n{example_tick.tracks[0].notes[1]}\\n\")\n",
    "\n",
    "print(\"Load as Time Unit [Tick]\")\n",
    "print(example_tick.tracks[0].notes, end=\"\\n\\n\")\n",
    "\n",
    "example_quarter = example_tick.to('quarter')\n",
    "print(\"Convert to Time Unit [Quarter]\")\n",
    "print(example_quarter.tracks[0].notes, end=\"\\n\\n\")\n",
    "\n",
    "example_second = example_quarter.to('second')\n",
    "print(\"Convert to Time Unit [Second]\")\n",
    "print(example_second.tracks[0].notes, end=\"\\n\\n\")\n",
    "\n",
    "example_tick = example_second.to('tick')\n",
    "print(\"Convert Back to Time Unit [Tick]\")\n",
    "print(example_tick.tracks[0].notes)"
   ]
  },
  {
   "cell_type": "markdown",
   "metadata": {},
   "source": [
    "## Easy to Use Numpy Support\n",
    "\n",
    "Convert the object list to or back from numpy in one step "
   ]
  },
  {
   "cell_type": "code",
   "execution_count": null,
   "metadata": {},
   "outputs": [],
   "source": [
    "notes_numpy = example_tick.tracks[0].notes.numpy()\n",
    "notes_numpy"
   ]
  },
  {
   "cell_type": "code",
   "execution_count": null,
   "metadata": {},
   "outputs": [],
   "source": [
    "example_tick.time_signatures.numpy()"
   ]
  },
  {
   "cell_type": "code",
   "execution_count": null,
   "metadata": {},
   "outputs": [],
   "source": [
    "sm.Note.from_numpy(**notes_numpy)"
   ]
  },
  {
   "cell_type": "markdown",
   "metadata": {},
   "source": [
    "## Build-in Synthesizer\n",
    "\n",
    "A simple and fast build-in sythesizer without other dependencies\n",
    "\n",
    "Get the wave audio as numpy array as soon as possible"
   ]
  },
  {
   "cell_type": "code",
   "execution_count": null,
   "metadata": {},
   "outputs": [],
   "source": [
    "from IPython.display import Audio\n",
    "\n",
    "sythesizer = sm.Synthesizer(sample_rate=44100)\n",
    "audio = sythesizer.render(example_tick, stereo=True)\n",
    "print(type(audio), audio.shape)\n",
    "Audio(audio, rate=44100)"
   ]
  },
  {
   "cell_type": "markdown",
   "metadata": {},
   "source": [
    "## PianoRoll Support\n",
    "\n",
    "fast pianoroll matrix conversion"
   ]
  },
  {
   "cell_type": "code",
   "execution_count": null,
   "metadata": {},
   "outputs": [],
   "source": [
    "from matplotlib import pyplot as plt\n",
    "\n",
    "s = example_tick\n",
    "track = s.tracks[0]\n",
    "pianoroll = track.pianoroll(modes=[\"onset\", \"frame\", \"offset\"], pitch_range=[0, 128], encode_velocity=False)\n",
    "print(type(pianoroll), pianoroll.shape)\n",
    "\n",
    "# this will show the onset and frame of the piano roll in one figure\n",
    "pianoroll = pianoroll[0] + pianoroll[1]\n",
    "plt.imshow(pianoroll, aspect=\"auto\")\n",
    "plt.ylim(0, 128)\n",
    "plt.ylabel('Pitch')\n",
    "plt.xlabel(\"Time [Tick]\")\n",
    "plt.show()"
   ]
  },
  {
   "cell_type": "markdown",
   "metadata": {},
   "source": [
    "## Chained Batch Operation"
   ]
  },
  {
   "cell_type": "code",
   "execution_count": null,
   "metadata": {},
   "outputs": [],
   "source": [
    "s = example_tick\\\n",
    "     .copy(deep=True)\\\n",
    "     .shift_time(1000, inplace=True)\\\n",
    "     .shift_pitch(12)\\\n",
    "     .clip(0, 10000, clip_end=True)"
   ]
  },
  {
   "cell_type": "code",
   "execution_count": null,
   "metadata": {},
   "outputs": [],
   "source": [
    "track = s.tracks[0]\n",
    "pianoroll = track.pianoroll(modes=[\"onset\", \"frame\"], pitch_range=[0, 128], encode_velocity=False)\n",
    "print(type(pianoroll), pianoroll.shape)\n",
    "\n",
    "# this will show the onset and frame of the piano roll in one figure\n",
    "pianoroll = pianoroll[0] + pianoroll[1]\n",
    "plt.imshow(pianoroll, aspect=\"auto\")\n",
    "plt.ylim(0, 128)\n",
    "plt.ylabel('Pitch')\n",
    "plt.xlabel(\"Time [Tick]\")\n",
    "plt.show()"
   ]
  },
  {
   "cell_type": "code",
   "execution_count": null,
   "metadata": {},
   "outputs": [],
   "source": []
  }
 ],
 "metadata": {
  "kernelspec": {
   "display_name": "music",
   "language": "python",
   "name": "python3"
  },
  "language_info": {
   "codemirror_mode": {
    "name": "ipython",
    "version": 3
   },
   "file_extension": ".py",
   "mimetype": "text/x-python",
   "name": "python",
   "nbconvert_exporter": "python",
   "pygments_lexer": "ipython3",
   "version": "3.12.7"
  }
 },
 "nbformat": 4,
 "nbformat_minor": 2
}
